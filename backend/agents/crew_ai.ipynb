{
 "cells": [
  {
   "cell_type": "code",
   "execution_count": null,
   "metadata": {},
   "outputs": [],
   "source": [
    "!pip install crewai\n",
    "!pip install 'crewai[tools]'\n",
    "!pip install motleycrew"
   ]
  },
  {
   "cell_type": "markdown",
   "metadata": {},
   "source": [
    "Imports"
   ]
  },
  {
   "cell_type": "code",
   "execution_count": 1,
   "metadata": {},
   "outputs": [],
   "source": [
    "import sys\n",
    "import os\n",
    "\n",
    "# Add the parent directory of the current file's location to the sys.path\n",
    "sys.path.append(os.path.abspath(\"../src\"))\n",
    "\n",
    "from dotenv import load_dotenv\n",
    "import neo4j\n",
    "from ast import literal_eval\n",
    "from queries import get_abstracts, get_abstract_pmids, get_functional_term_proteins\n",
    "from summarization.article_graph import generate_embedding\n",
    "from queries import cosine_similiarity\n",
    "from crewai_tools import tool\n",
    "from crewai import Crew, Process, Agent, Task\n",
    "from crewai import Agent, LLM\n",
    "from motleycrew import MotleyCrew\n",
    "from motleycrew.agents.crewai import CrewAIMotleyAgent"
   ]
  },
  {
   "cell_type": "markdown",
   "metadata": {},
   "source": [
    "Necessary functions"
   ]
  },
  {
   "cell_type": "code",
   "execution_count": 2,
   "metadata": {},
   "outputs": [],
   "source": [
    "def get_driver():\n",
    "    load_dotenv()\n",
    "\n",
    "    # set config\n",
    "    NEO4J_HOST = os.getenv(\"NEO4J_HOST\")\n",
    "    NEO4J_PORT = os.getenv(\"NEO4J_PORT\")\n",
    "    NEO4J_PASSWORD = os.getenv(\"NEO4J_PASSWORD\")\n",
    "    NEO4J_USERNAME = os.getenv(\"NEO4J_USERNAME\")\n",
    "    # connect\n",
    "    uri = f\"bolt://{NEO4J_HOST}:{NEO4J_PORT}\"\n",
    "    driver = neo4j.GraphDatabase.driver(uri, auth=(NEO4J_USERNAME, NEO4J_PASSWORD))\n",
    "    return driver\n",
    "\n",
    "def abstracts_for_agent(query):\n",
    "    query = literal_eval(query)\n",
    "    driver = get_driver()\n",
    "    test = get_abstracts(driver=driver, species=\"Mus_Musculus\", query=query)\n",
    "    abstracts =[{i[\"PMID\"]: i[\"abstract\"]} for i in test]\n",
    "    driver.close()\n",
    "    return abstracts\n",
    "\n",
    "@tool(\"abstracts fetcher\")\n",
    "def fetch_abstracts(query: list, question: str):\n",
    "    \"\"\"\"Fetches abstracts relevant for question about proteins, not functional terms. First argument is the query in format of a list, second is the question as a string.\"\"\"\n",
    "    driver = get_driver()\n",
    "    pmids = get_abstract_pmids(driver=driver, species=\"Mus_Musculus\", query=query)\n",
    "    pmids =[i[\"PMID\"] for i in pmids]\n",
    "    embedded_query = generate_embedding(query=question)\n",
    "    abstracts = cosine_similiarity(driver=driver, pmids=pmids, embedding=embedded_query)\n",
    "    if len(abstracts) == 0:\n",
    "        return \"No abstracts found, maybe use another tool?\"\n",
    "    return \" \\n \".join(abstracts)\n",
    "\n",
    "@tool(\"protein_from_functional_term_fetcher\")\n",
    "def fetch_proteins_from_functional_terms(funct_term: list) -> list:\n",
    "    \"Queries neo4j to retrieve proteins associated to functional terms.\"\n",
    "    driver = get_driver()\n",
    "    proteins = get_functional_term_proteins(driver, funct_term)\n",
    "    driver.close()\n",
    "    return proteins"
   ]
  },
  {
   "cell_type": "markdown",
   "metadata": {},
   "source": [
    "Agents"
   ]
  },
  {
   "cell_type": "code",
   "execution_count": 3,
   "metadata": {},
   "outputs": [],
   "source": [
    "llm = LLM(model=\"ollama/llama3.1\", base_url=\"http://localhost:11434\", temperature=0)\n",
    "class CustomAgents:\n",
    "    def __init__(self):\n",
    "        self.Ollama = llm\n",
    "\n",
    "    def helper_agent(self):\n",
    "        return Agent(\n",
    "            role=\"Helper\",\n",
    "            goal=\"Help the team\",\n",
    "            backstory=\"You're an expert biologist, you're here to help the team\",\n",
    "            llm=self.Ollama,\n",
    "            max_iter=1\n",
    "        )\n",
    "    \n",
    "    def protein_from_functional_term_fetcher_agent(self):\n",
    "        return Agent(\n",
    "            role=\"Functional term to protein fetcher\",\n",
    "            goal=\"You query the database to retrieve proteins associated to functional terms, functional terms have the format funct_term~source\",\n",
    "            backstory=\"You're an expert biologist, you focus on retrieving proteins associated to functional terms\",\n",
    "            allow_delegation=True,\n",
    "            llm=self.Ollama,\n",
    "            tools=[fetch_proteins_from_functional_terms],\n",
    "            max_iter=1\n",
    "        )\n",
    "    def abstract_fetcher_agent(self):\n",
    "        return Agent(\n",
    "            role=\"Information fetcher\",\n",
    "            goal=\"Fetch abstracts needed to answer questions regarding protein interactions or functions.\",\n",
    "            backstory=\"You're an expert biologist, you focus on retrieving scientific abstracts. You know that the ferch abstracts tool can be used to retrieve abstracts for a given question and has the format fetch_abstracts(query: list, question:str)\",\n",
    "            allow_delegation=True,\n",
    "            llm=self.Ollama,\n",
    "            tools=[fetch_abstracts],\n",
    "            max_iter=1\n",
    "        )\n",
    "\n",
    "    def summarization_agent(self):\n",
    "        return Agent(\n",
    "            role=\"Information summarizer\",\n",
    "            goal=\"You summarize information\",\n",
    "            backstory=\"You're an expert biologist, your main field is protein/gene interactions\",\n",
    "            allow_delegation=True,\n",
    "            llm=self.Ollama,\n",
    "            max_iter=1\n",
    "        )\n",
    "    def manager_agent(self):\n",
    "        return Agent(\n",
    "            role=\"Manager\",\n",
    "            goal=\"You manage the team\",\n",
    "            backstory=\"You're an expert biologist, you manage a team of biologists. You know that functional terms have the format funct_term~source. The abstract_fetcher_agent retireves abstracts and the summarization agent summarizes them.\",\n",
    "            llm=self.Ollama,\n",
    "            max_iter=1\n",
    "        )"
   ]
  },
  {
   "cell_type": "markdown",
   "metadata": {},
   "source": [
    "Tasks"
   ]
  },
  {
   "cell_type": "code",
   "execution_count": 4,
   "metadata": {},
   "outputs": [],
   "source": [
    "# This is an example of how to define custom tasks.\n",
    "# You can define as many tasks as you want.\n",
    "# You can also define custom agents in agents.py\n",
    "class CustomTasks:\n",
    "    def bionet_helper_task(self, context):\n",
    "        return Task(\n",
    "            description = f\"Help the user. The user input is: {context}\",\n",
    "            expected_output=\"An answer to the question\",\n",
    "            verbose=True\n",
    "        )"
   ]
  },
  {
   "cell_type": "markdown",
   "metadata": {},
   "source": [
    "Define agents, tasks and start the work"
   ]
  },
  {
   "cell_type": "code",
   "execution_count": null,
   "metadata": {},
   "outputs": [
    {
     "name": "stdout",
     "output_type": "stream",
     "text": [
      "\u001b[1m\u001b[95m# Agent:\u001b[00m \u001b[1m\u001b[92mManager\u001b[00m\n",
      "\u001b[95m## Task:\u001b[00m \u001b[92mHelp the user. The user input is: whats the role of cd40?\u001b[00m\n",
      "\u001b[1m\u001b[95m# Agent:\u001b[00m \u001b[1m\u001b[92mInformation fetcher\u001b[00m\n",
      "\u001b[95m## Task:\u001b[00m \u001b[92mfetch information about cd40\u001b[00m\n",
      "\n",
      "\n",
      "\u001b[1m\u001b[95m# Agent:\u001b[00m \u001b[1m\u001b[92mInformation fetcher\u001b[00m\n",
      "\u001b[95m## Thought:\u001b[00m \u001b[92mThought: I need to fetch abstracts relevant for questions about proteins, specifically cd40.\u001b[00m\n",
      "\u001b[95m## Using tool:\u001b[00m \u001b[92mabstracts fetcher\u001b[00m\n",
      "\u001b[95m## Tool Input:\u001b[00m \u001b[92m\n",
      "\"{\\\"query\\\": [\\\"cd40\\\"], \\\"question\\\": \\\"What are the functions of cd40 protein?\\\"}\"\u001b[00m\n",
      "\u001b[95m## Tool Output:\u001b[00m \u001b[92m\n",
      "The CD40 receptor is expressed constitutively on B lymphocytes, for which it provides important signals regulating clonal expansion, antibody production and isotype switching, as well as the development of humoral memory. The major source of CD154, the ligand for CD40, is activated T lymphocytes. Interactions between CD40 and CD154 provide a number of signals that play important roles in regulating the complex and multifactorial interactions between these two major cell types of the adaptive immune response. Understanding both the biological effects of this receptor-ligand interaction, as well as how CD40 signaling pathways are controlled, adds to our detailed picture of the complex interplay between B and T cells. \n",
      " The widespread expression of CD40 in normal epithelial cells and carcinoma cells suggests that this receptor has important, additional influences beyond that of regulating immune responses. Here, Lawrence Young and colleagues discuss the effect of CD40 ligation on epithelial cells and consider the role of this pathway in the pathogenesis and treatment of carcinomas. \n",
      " T lymphocytes recirculate continually through the T cell areas of peripheral lymph nodes. During each passage, the T cells survey the surface of large dendritic cells (DCs), also known as interdigitating cells. However, these DCs have been difficult to release from the lymph node. By emphasizing the use of calcium-free media, as shown by Vremec et al. (Vremec, D., M. Zorbas, R. Scollay, D.J. Saunders, C.F. Ardavin, L. Wu, and K. Shortman. 1992. J. Exp. Med. 176:47-58.), we have been able to release and enrich DCs from the T cell areas. The DCs express the CD11c leukocyte integrin, the DEC-205 multilectin receptor for antigen presentation, the intracellular granule antigens which are recognized by monoclonal antibodies M342, 2A1, and MIDC-8, very high levels of MHC I and MHC II, and abundant accessory molecules such as CD40, CD54, and CD86. When examined with the Y-Ae monoclonal which recognizes complexes formed between I-Ab and a peptide derived from I-Ealpha, the T cell area DCs expressed the highest levels. The enriched DCs also stimulated a T-T hybridoma specific for this MHC II-peptide complex, and the hybridoma underwent apoptosis. Therefore DCs within the T cell areas can be isolated. Because they present very high levels of self peptides, these DCs should be considered in the regulation of self reactivity in the periphery. \n",
      " Signals from CD4+ T cells induce two opposite fates in B cells: clonal proliferation of B cells that bind specifically to foreign antigens and clonal deletion of equivalent B cells that bind self-antigens. This B cell fate decision is determined by the concerted action of two surface proteins on activated T cells, CD40-and Fas-ligands (CD40L and FasL), whose effects are switched by signals from the B cell antigen receptor (BCR). Foreign antigens that stimulate the BCR acutely cause CD40L and FasL to promote clonal proliferation. CD40L and FasL trigger deletion, however, when the BCRs become desensitized by chronic stimulation with self-antigens or when BCRs have not bound an antigen. The need for both Fas and CD40L to correctly regulate self-reactive B cell fate may explain the severe autoantibody disorders in Fas- or CD40L-deficient children. \n",
      " The existence of heat-shock protein (HSP) receptors on antigen-presenting cells (APCs) was hypothesized in 1994. The first such receptor, CD91 or LRP, was identified and characterized in 2000. The pace of attribution has quickened since and during the last three years alone, six putative HSP receptors have been identified. These include CD40, LOX-1, CD36, Toll-like receptor-2 (TLR-2), TLR-4 and SR-A. The literature on HSP receptors on APCs is critically examined in this review and future directions are imagined. \n",
      " Initially, a role for the interaction between CD40, expressed on B cells, and gp39 (CD40L), expressed on activated T cells, has been defined in humoral immunity. CD40-CD40L interaction is an essential signal for B cell proliferation, expression of activation markers, immunoglobulin production, and isotype switching. CD40-CD40L interaction is also required for formation of B memory cells and germinal centers, and signaling through CD40 prevents apoptosis of germinal center B cells. Defective expression of CD40L in humans leads to an inability to produce isotypes other than IgM (hyper IgM syndrome), and to an absence of germinal centers. More recent evidence indicates an expansion of the role of the CD40-CD40L axis in cellular interactions beyond antibody formation. Induced expression of CD40 on monocytes can lead to CD40L-activated monocyte effector mechanisms. In addition, CD40-CD40L interactions are crucially involved in development of autoimmune disease in a number of animal models. CD40-CD40L interactions also impact on growth regulation of certain carcinomas. Manipulation of CD40L has also been used to develop novel strategies for long-term antigen-specific tolerization of peripheral T cells. Finally, the CD40-CD40L axis is involved in thymic selection. Following is a comprehensive overview of CD40L-CD40 interactions in physiological and pathogenic cellular responses and a discussion of the therapeutic ramifications of these interactions.\u001b[00m\n",
      "\n",
      "\n",
      "\u001b[1m\u001b[95m# Agent:\u001b[00m \u001b[1m\u001b[92mInformation fetcher\u001b[00m\n",
      "\u001b[95m## Final Answer:\u001b[00m \u001b[92m\n",
      "The CD40 receptor is expressed constitutively on B lymphocytes, for which it provides important signals regulating clonal expansion, antibody production and isotype switching, as well as the development of humoral memory. The major source of CD154, the ligand for CD40, is activated T lymphocytes. Interactions between CD40 and CD154 provide a number of signals that play important roles in regulating the complex and multifactorial interactions between these two major cell types of the adaptive immune response. Understanding both the biological effects of this receptor-ligand interaction, as well as how CD40 signaling pathways are controlled, adds to our detailed picture of the complex interplay between B and T cells. The widespread expression of CD40 in normal epithelial cells and carcinoma cells suggests that this receptor has important, additional influences beyond that of regulating immune responses. Here, Lawrence Young and colleagues discuss the effect of CD40 ligation on epithelial cells and consider the role of this pathway in the pathogenesis and treatment of carcinomas. T lymphocytes recirculate continually through the T cell areas of peripheral lymph nodes. During each passage, the T cells survey the surface of antigen-presenting cells (APCs), such as dendritic cells and macrophages, which express CD40. The interaction between CD40 on APCs and CD154 on activated T cells is crucial for the activation of T cells and the initiation of immune responses. In addition to its role in B cell activation, CD40 has also been shown to be involved in the regulation of other immune cells, including macrophages and dendritic cells. The CD40-CD154 interaction plays a critical role in the development of autoimmune diseases, such as rheumatoid arthritis and lupus, and is also implicated in the pathogenesis of certain cancers, including breast cancer and melanoma. Furthermore, the CD40-CD154 axis has been shown to be involved in the regulation of inflammation and the production of cytokines, which are essential for the coordination of immune responses. Overall, the CD40 receptor plays a critical role in the regulation of immune responses and is an important target for the development of therapeutic strategies aimed at modulating immune function.\u001b[00m\n",
      "\n",
      "\n",
      "\n",
      "\n",
      "\u001b[1m\u001b[95m# Agent:\u001b[00m \u001b[1m\u001b[92mManager\u001b[00m\n",
      "\u001b[95m## Thought:\u001b[00m \u001b[92mThought: I need to figure out what cd40 is and its role in biology.\u001b[00m\n",
      "\u001b[95m## Using tool:\u001b[00m \u001b[92mDelegate work to coworker\u001b[00m\n",
      "\u001b[95m## Tool Input:\u001b[00m \u001b[92m\n",
      "\"{\\\"task\\\": \\\"fetch information about cd40\\\", \\\"context\\\": \\\"cd40 is a protein that may be related to immune responses, but I am not sure. It might be involved in cell signaling or interactions between cells.\\\", \\\"coworker\\\": \\\"Information fetcher\\\"}\"\u001b[00m\n",
      "\u001b[95m## Tool Output:\u001b[00m \u001b[92m\n",
      "The CD40 receptor is expressed constitutively on B lymphocytes, for which it provides important signals regulating clonal expansion, antibody production and isotype switching, as well as the development of humoral memory. The major source of CD154, the ligand for CD40, is activated T lymphocytes. Interactions between CD40 and CD154 provide a number of signals that play important roles in regulating the complex and multifactorial interactions between these two major cell types of the adaptive immune response. Understanding both the biological effects of this receptor-ligand interaction, as well as how CD40 signaling pathways are controlled, adds to our detailed picture of the complex interplay between B and T cells. The widespread expression of CD40 in normal epithelial cells and carcinoma cells suggests that this receptor has important, additional influences beyond that of regulating immune responses. Here, Lawrence Young and colleagues discuss the effect of CD40 ligation on epithelial cells and consider the role of this pathway in the pathogenesis and treatment of carcinomas. T lymphocytes recirculate continually through the T cell areas of peripheral lymph nodes. During each passage, the T cells survey the surface of antigen-presenting cells (APCs), such as dendritic cells and macrophages, which express CD40. The interaction between CD40 on APCs and CD154 on activated T cells is crucial for the activation of T cells and the initiation of immune responses. In addition to its role in B cell activation, CD40 has also been shown to be involved in the regulation of other immune cells, including macrophages and dendritic cells. The CD40-CD154 interaction plays a critical role in the development of autoimmune diseases, such as rheumatoid arthritis and lupus, and is also implicated in the pathogenesis of certain cancers, including breast cancer and melanoma. Furthermore, the CD40-CD154 axis has been shown to be involved in the regulation of inflammation and the production of cytokines, which are essential for the coordination of immune responses. Overall, the CD40 receptor plays a critical role in the regulation of immune responses and is an important target for the development of therapeutic strategies aimed at modulating immune function.\u001b[00m\n",
      "\n",
      "\n",
      "\u001b[1m\u001b[95m# Agent:\u001b[00m \u001b[1m\u001b[92mManager\u001b[00m\n",
      "\u001b[95m## Final Answer:\u001b[00m \u001b[92m\n",
      "{'task': 'fetch information about cd40', 'context': 'cd40 is a protein that may be related to immune responses, but I am not sure. It might be involved in cell signaling or interactions between cells.', 'coworker': 'Information fetcher'}\u001b[00m\n",
      "\n",
      "\n",
      "{'task': 'fetch information about cd40', 'context': 'cd40 is a protein that may be related to immune responses, but I am not sure. It might be involved in cell signaling or interactions between cells.', 'coworker': 'Information fetcher'}\n"
     ]
    }
   ],
   "source": [
    "# Define agents\n",
    "agents = CustomAgents()\n",
    "\n",
    "manager = agents.manager_agent()\n",
    "abstract_fetcher_agent = agents.abstract_fetcher_agent()\n",
    "summarization_agent = agents.summarization_agent()\n",
    "helper_agent = agents.helper_agent()\n",
    "protein_fetcher_agent = agents.protein_from_functional_term_fetcher_agent()\n",
    "\n",
    "# Define tasks\n",
    "tasks = CustomTasks()\n",
    "\n",
    "task = tasks.bionet_helper_task(\"whats the role of cd40?\")\n",
    "#task = tasks.bionet_helper_task(\"What are proteins associated in PWY-5910~BIOCYC and PWY0-1305~BIOCYC\")\n",
    "\n",
    "# Define the crew\n",
    "crew = Crew(agents=[protein_fetcher_agent, summarization_agent, abstract_fetcher_agent], tasks=[task], process=Process.hierarchical, manager_agent=manager, verbose=True)\n",
    "\n",
    "# Start the crew's work\n",
    "result = crew.kickoff()\n",
    "print(result)\n"
   ]
  },
  {
   "cell_type": "code",
   "execution_count": 2,
   "metadata": {},
   "outputs": [],
   "source": [
    "from llama_index.core.agent import ReActAgent\n",
    "from motleycrew.tools import MotleyTool, RetryConfig\n",
    "from motleycrew.common import configure_logging\n",
    "from motleycrew.tasks import SimpleTask\n",
    "from motleycrew.agents.langchain import ReActToolCallingMotleyAgent\n",
    "from motleycrew.common.llms import init_llm\n",
    "from motleycrew.common import LLMFramework, LLMProvider"
   ]
  },
  {
   "cell_type": "code",
   "execution_count": 4,
   "metadata": {},
   "outputs": [],
   "source": [
    "llm = init_llm(\n",
    "    llm_framework=LLMFramework.LANGCHAIN,\n",
    "    llm_provider=LLMProvider.OLLAMA,\n",
    "    llm_name=\"llama3.1\",\n",
    "    llm_temperature=0\n",
    ")\n",
    "@tool(\"abstracts fetcher\")\n",
    "def fetch_abstracts(query: list, question: str):\n",
    "    \"\"\"\"Fetches abstracts relevant for question about proteins, not functional terms. First argument is the query in format of a list, second is the question as a string.\"\"\"\n",
    "    driver = get_driver()\n",
    "    pmids = get_abstract_pmids(driver=driver, species=\"Mus_Musculus\", query=query)\n",
    "    pmids =[i[\"PMID\"] for i in pmids]\n",
    "    embedded_query = generate_embedding(query=question)\n",
    "    abstracts = cosine_similiarity(driver=driver, pmids=pmids, embedding=embedded_query)\n",
    "    if len(abstracts) == 0:\n",
    "        return \"No abstracts found, maybe use another tool?\"\n",
    "    return \" \\n \".join(abstracts)\n",
    "fetch_abstracts_tool = MotleyTool.from_supported_tool(fetch_abstracts)\n",
    "#fetch_proteins_from_functional_terms_tool = MotleyTool.from_supported_tool(fetch_proteins_from_functional_terms)"
   ]
  },
  {
   "cell_type": "code",
   "execution_count": 5,
   "metadata": {},
   "outputs": [],
   "source": [
    "abtsract_fetcher = CrewAIMotleyAgent(\n",
    "    llm=llm,\n",
    "    role=\"Abstract Fetcher\",\n",
    "    goal=\"Fetch abstracts needed to answer questions regarding protein interactions or functions.\",\n",
    "    backstory=\"\"\"You are an expert biologist.\n",
    "    Your expertise lies in fetching abstracts.\n",
    "    \"\"\",\n",
    "    verbose=True,\n",
    "    tools=[fetch_abstracts_tool],\n",
    ")\n",
    "\n",
    "# You can give agents as tools to other agents\n",
    "react_agent = ReActToolCallingMotleyAgent(\n",
    "    llm=llm,\n",
    "    name=\"User helper\",\n",
    "    prompt_prefix=\"\"\"You answer the user's question.\"\"\",\n",
    "    tools=[abtsract_fetcher],\n",
    "    verbose=True,\n",
    ")"
   ]
  },
  {
   "cell_type": "code",
   "execution_count": 6,
   "metadata": {},
   "outputs": [
    {
     "name": "stderr",
     "output_type": "stream",
     "text": [
      "2024-11-27 11:36:32,893 - motleycrew - WARNING - Lunary public key is not set, tracking will be disabled\n"
     ]
    },
    {
     "name": "stdout",
     "output_type": "stream",
     "text": [
      "\n",
      "\n",
      "\u001b[1m> Entering new AgentExecutor chain...\u001b[0m\n",
      "\u001b[32;1m\u001b[1;3m\u001b[0m\n",
      "\n",
      "\u001b[1m> Finished chain.\u001b[0m\n"
     ]
    }
   ],
   "source": [
    "# You always need a crew to orchestrate the agents\n",
    "crew = MotleyCrew()\n",
    "\n",
    "blog_post_task = SimpleTask(\n",
    "    crew=crew,\n",
    "    name=\"Answer the question\",\n",
    "    description=\"\"\"What's the role of cd40?\"\"\",\n",
    "    agent=react_agent,\n",
    ")\n",
    "result = crew.run()\n",
    "final_result = blog_post_task.output"
   ]
  },
  {
   "cell_type": "code",
   "execution_count": 24,
   "metadata": {},
   "outputs": [
    {
     "data": {
      "text/plain": [
       "''"
      ]
     },
     "execution_count": 24,
     "metadata": {},
     "output_type": "execute_result"
    }
   ],
   "source": [
    "final_result"
   ]
  }
 ],
 "metadata": {
  "kernelspec": {
   "display_name": "bionetviz",
   "language": "python",
   "name": "python3"
  },
  "language_info": {
   "codemirror_mode": {
    "name": "ipython",
    "version": 3
   },
   "file_extension": ".py",
   "mimetype": "text/x-python",
   "name": "python",
   "nbconvert_exporter": "python",
   "pygments_lexer": "ipython3",
   "version": "3.11.10"
  }
 },
 "nbformat": 4,
 "nbformat_minor": 2
}
