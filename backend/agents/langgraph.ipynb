{
 "cells": [
  {
   "cell_type": "code",
   "execution_count": null,
   "metadata": {},
   "outputs": [],
   "source": [
    "!pip install tenacity==8.5.0\n",
    "!pip install -U langgraph langchain-ollama"
   ]
  },
  {
   "cell_type": "markdown",
   "metadata": {},
   "source": [
    "Imports"
   ]
  },
  {
   "cell_type": "code",
   "execution_count": 2,
   "metadata": {},
   "outputs": [],
   "source": [
    "import sys\n",
    "import os\n",
    "\n",
    "# Add the parent directory of the current file's location to the sys.path\n",
    "sys.path.append(os.path.abspath(\"../src\"))\n",
    "\n",
    "from dotenv import load_dotenv\n",
    "import neo4j\n",
    "from ast import literal_eval\n",
    "from langchain_ollama import ChatOllama\n",
    "from langchain_core.tools import tool\n",
    "from langgraph.prebuilt import create_react_agent\n",
    "from queries import get_abstracts, get_abstract_pmids, get_functional_term_proteins, cosine_similiarity\n",
    "from IPython.display import Image, display\n",
    "from summarization.article_graph import generate_embedding\n",
    "from queries import get_functional_term_proteins"
   ]
  },
  {
   "cell_type": "markdown",
   "metadata": {},
   "source": [
    "Necessary function"
   ]
  },
  {
   "cell_type": "code",
   "execution_count": 3,
   "metadata": {},
   "outputs": [],
   "source": [
    "def get_driver():\n",
    "    load_dotenv()\n",
    "\n",
    "    # set config\n",
    "    NEO4J_HOST = os.getenv(\"NEO4J_HOST\")\n",
    "    NEO4J_PORT = os.getenv(\"NEO4J_PORT\")\n",
    "    NEO4J_PASSWORD = os.getenv(\"NEO4J_PASSWORD\")\n",
    "    NEO4J_USERNAME = os.getenv(\"NEO4J_USERNAME\")\n",
    "    # connect\n",
    "    uri = f\"bolt://{NEO4J_HOST}:{NEO4J_PORT}\"\n",
    "    driver = neo4j.GraphDatabase.driver(uri, auth=(NEO4J_USERNAME, NEO4J_PASSWORD))\n",
    "    return driver\n",
    "\n",
    "def abstracts_for_agent(query):\n",
    "    query = literal_eval(query)\n",
    "    driver = get_driver()\n",
    "    test = get_abstracts(driver=driver, species=\"Mus_Musculus\", query=query)\n",
    "    abstracts =[{i[\"PMID\"]: i[\"abstract\"]} for i in test]\n",
    "    driver.close()\n",
    "    return abstracts\n",
    "\n",
    "def pmids_for_agent(query):\n",
    "    query = literal_eval(query)\n",
    "    driver = get_driver()\n",
    "    test = get_abstract_pmids(driver=driver, species=\"Mus_Musculus\", query=query)\n",
    "    pmids =[i[\"PMID\"] for i in test]\n",
    "    driver.close()\n",
    "    return pmids\n",
    "def split_list(input_list):\n",
    "    # Find the midpoint\n",
    "    midpoint = len(input_list) // 2\n",
    "    \n",
    "    # Split the list\n",
    "    list1 = input_list[:midpoint]\n",
    "    list2 = input_list[midpoint:]\n",
    "    \n",
    "    return [list1, list2]"
   ]
  },
  {
   "cell_type": "markdown",
   "metadata": {},
   "source": [
    "Tools"
   ]
  },
  {
   "cell_type": "code",
   "execution_count": 28,
   "metadata": {},
   "outputs": [],
   "source": [
    "@tool\n",
    "def get_abstracts_for_proteins(protein, query) -> str:\n",
    "    \"Queries neo4j to retrieve abstracts relevant to proteins, use for questions about proteins. first argument should be a python list of proteins, second argument should be the question\"\n",
    "    driver = get_driver()\n",
    "    embedded_query = generate_embedding(query)\n",
    "    pmids = get_abstract_pmids(driver=driver, species=\"Mus_Musculus\", query=protein)\n",
    "    pmids =[i[\"PMID\"] for i in pmids]\n",
    "    abstracts = cosine_similiarity(driver=driver, pmids=pmids, embedding=embedded_query)\n",
    "    if len(abstracts) == 0:\n",
    "        return \"No abstracts found, does the input have the correct format? first argument should be a python list of proteins, second argument should be string of the question\"\n",
    "    return \"abstracts related to the query: \"+ \"\\n\".join(abstracts)\n",
    "\n",
    "\n",
    "@tool\n",
    "def get_proteins_from_functional_terms(funct_term: list) -> list:\n",
    "    \"Queries neo4j to retrieve proteins associated to a functional term, use this only if a the user asks about which proteins are involved in functional pathway not functions. Argument should be a list of functional terms of format term~source\"\n",
    "    driver = get_driver()\n",
    "    proteins = get_functional_term_proteins(driver, funct_term)\n",
    "    driver.close()\n",
    "    if len(proteins) == 0:\n",
    "        return [\"No proteins found, format of input is funct_term~source, maybe use another tool?\"]\n",
    "    return f\"the associated proteins are: {proteins}\"\n",
    "\n",
    "\n",
    "tools = [get_proteins_from_functional_terms, get_abstracts_for_proteins]"
   ]
  },
  {
   "cell_type": "markdown",
   "metadata": {},
   "source": [
    "Model definition"
   ]
  },
  {
   "cell_type": "code",
   "execution_count": 29,
   "metadata": {},
   "outputs": [],
   "source": [
    "model = ChatOllama(model=\"llama3.1\")\n",
    "graph = create_react_agent(model, tools=tools)"
   ]
  },
  {
   "cell_type": "markdown",
   "metadata": {},
   "source": [
    "Agent graph generation"
   ]
  },
  {
   "cell_type": "code",
   "execution_count": 30,
   "metadata": {},
   "outputs": [
    {
     "data": {
      "image/png": "[encoded data removed]",
      "text/plain": [
       "<IPython.core.display.Image object>"
      ]
     },
     "metadata": {},
     "output_type": "display_data"
    }
   ],
   "source": [
    "display(Image(graph.get_graph().draw_mermaid_png()))"
   ]
  },
  {
   "cell_type": "markdown",
   "metadata": {},
   "source": [
    "Stream output"
   ]
  },
  {
   "cell_type": "code",
   "execution_count": 31,
   "metadata": {},
   "outputs": [],
   "source": [
    "def print_stream(stream):\n",
    "    for s in stream:\n",
    "        message = s[\"messages\"][-1]\n",
    "        if isinstance(message, tuple):\n",
    "            print(message)\n",
    "        else:\n",
    "            message.pretty_print()"
   ]
  },
  {
   "cell_type": "markdown",
   "metadata": {},
   "source": [
    "Agent calling"
   ]
  },
  {
   "cell_type": "code",
   "execution_count": 34,
   "metadata": {},
   "outputs": [
    {
     "name": "stdout",
     "output_type": "stream",
     "text": [
      "================================\u001b[1m Human Message \u001b[0m=================================\n",
      "\n",
      "whats the role of cd40?\n",
      "==================================\u001b[1m Ai Message \u001b[0m==================================\n",
      "Tool Calls:\n",
      "  get_abstracts_for_proteins (9050810e-5230-4954-b23e-628bedded98e)\n",
      " Call ID: 9050810e-5230-4954-b23e-628bedded98e\n",
      "  Args:\n",
      "    protein: ['cd40']\n",
      "    query: role\n",
      "=================================\u001b[1m Tool Message \u001b[0m=================================\n",
      "Name: get_abstracts_for_proteins\n",
      "\n",
      "No abstracts found, does the input have the correct format? first argument should be a python list of proteins, second argument should be string of the question\n",
      "==================================\u001b[1m Ai Message \u001b[0m==================================\n",
      "Tool Calls:\n",
      "  get_abstracts_for_proteins (9c6386ae-9349-4749-8b23-c550d4dae83c)\n",
      " Call ID: 9c6386ae-9349-4749-8b23-c550d4dae83c\n",
      "  Args:\n",
      "    protein: ['CD40']\n",
      "    query: role\n",
      "=================================\u001b[1m Tool Message \u001b[0m=================================\n",
      "Name: get_abstracts_for_proteins\n",
      "\n",
      "No abstracts found, does the input have the correct format? first argument should be a python list of proteins, second argument should be string of the question\n",
      "==================================\u001b[1m Ai Message \u001b[0m==================================\n",
      "Tool Calls:\n",
      "  get_abstracts_for_proteins (15bc23a3-677a-45d0-94a3-4d9b4199e660)\n",
      " Call ID: 15bc23a3-677a-45d0-94a3-4d9b4199e660\n",
      "  Args:\n",
      "    protein: ['CD40']\n",
      "    query: What is the role of CD40?\n",
      "=================================\u001b[1m Tool Message \u001b[0m=================================\n",
      "Name: get_abstracts_for_proteins\n",
      "\n",
      "No abstracts found, does the input have the correct format? first argument should be a python list of proteins, second argument should be string of the question\n",
      "==================================\u001b[1m Ai Message \u001b[0m==================================\n",
      "Tool Calls:\n",
      "  get_abstracts_for_proteins (0e306b83-7ed3-4635-bd4c-5f49fd5c06fe)\n",
      " Call ID: 0e306b83-7ed3-4635-bd4c-5f49fd5c06fe\n",
      "  Args:\n",
      "    protein: [\"CD40\"]\n",
      "    query: What is the role of CD40?\n",
      "=================================\u001b[1m Tool Message \u001b[0m=================================\n",
      "Name: get_abstracts_for_proteins\n",
      "\n",
      "No abstracts found, does the input have the correct format? first argument should be a python list of proteins, second argument should be string of the question\n",
      "==================================\u001b[1m Ai Message \u001b[0m==================================\n",
      "Tool Calls:\n",
      "  get_abstracts_for_proteins (edd687bd-0efb-434b-8c53-2af1e26e1cab)\n",
      " Call ID: edd687bd-0efb-434b-8c53-2af1e26e1cab\n",
      "  Args:\n",
      "    protein: ['CD40']\n",
      "    query: What is the role of CD40?\n",
      "=================================\u001b[1m Tool Message \u001b[0m=================================\n",
      "Name: get_abstracts_for_proteins\n",
      "\n",
      "abstracts related to the query: The widespread expression of CD40 in normal epithelial cells and carcinoma cells suggests that this receptor has important, additional influences beyond that of regulating immune responses. Here, Lawrence Young and colleagues discuss the effect of CD40 ligation on epithelial cells and consider the role of this pathway in the pathogenesis and treatment of carcinomas.\n",
      "The CD40 receptor is expressed constitutively on B lymphocytes, for which it provides important signals regulating clonal expansion, antibody production and isotype switching, as well as the development of humoral memory. The major source of CD154, the ligand for CD40, is activated T lymphocytes. Interactions between CD40 and CD154 provide a number of signals that play important roles in regulating the complex and multifactorial interactions between these two major cell types of the adaptive immune response. Understanding both the biological effects of this receptor-ligand interaction, as well as how CD40 signaling pathways are controlled, adds to our detailed picture of the complex interplay between B and T cells.\n",
      "Signals from CD4+ T cells induce two opposite fates in B cells: clonal proliferation of B cells that bind specifically to foreign antigens and clonal deletion of equivalent B cells that bind self-antigens. This B cell fate decision is determined by the concerted action of two surface proteins on activated T cells, CD40-and Fas-ligands (CD40L and FasL), whose effects are switched by signals from the B cell antigen receptor (BCR). Foreign antigens that stimulate the BCR acutely cause CD40L and FasL to promote clonal proliferation. CD40L and FasL trigger deletion, however, when the BCRs become desensitized by chronic stimulation with self-antigens or when BCRs have not bound an antigen. The need for both Fas and CD40L to correctly regulate self-reactive B cell fate may explain the severe autoantibody disorders in Fas- or CD40L-deficient children.\n",
      "T lymphocytes recirculate continually through the T cell areas of peripheral lymph nodes. During each passage, the T cells survey the surface of large dendritic cells (DCs), also known as interdigitating cells. However, these DCs have been difficult to release from the lymph node. By emphasizing the use of calcium-free media, as shown by Vremec et al. (Vremec, D., M. Zorbas, R. Scollay, D.J. Saunders, C.F. Ardavin, L. Wu, and K. Shortman. 1992. J. Exp. Med. 176:47-58.), we have been able to release and enrich DCs from the T cell areas. The DCs express the CD11c leukocyte integrin, the DEC-205 multilectin receptor for antigen presentation, the intracellular granule antigens which are recognized by monoclonal antibodies M342, 2A1, and MIDC-8, very high levels of MHC I and MHC II, and abundant accessory molecules such as CD40, CD54, and CD86. When examined with the Y-Ae monoclonal which recognizes complexes formed between I-Ab and a peptide derived from I-Ealpha, the T cell area DCs expressed the highest levels. The enriched DCs also stimulated a T-T hybridoma specific for this MHC II-peptide complex, and the hybridoma underwent apoptosis. Therefore DCs within the T cell areas can be isolated. Because they present very high levels of self peptides, these DCs should be considered in the regulation of self reactivity in the periphery.\n",
      "T cell-mediated rejection of tumors requires signals from the T cell receptor and co-stimulatory molecules to license effector functions of tumor-antigen specific T cells. There is also an array of immune suppressive mechanisms within the tumor microenvironment that can suppress anti-tumor immunity. The use of monoclonal antibodies to overcome this suppression and/or enhance tumor-antigen specific T cell responses has shown promise in clinical trials. In particular, targeting co-stimulatory members of the tumor necrosis factor receptor (TNFR) family with agonist Abs enhances T cell function, which has led to encouraging therapeutic results in cancer-bearing hosts. These encouraging data establish TNFRs as important targets for enhancing tumor-specific immune responses in mice and man. This review will focus on agonists that target the TNFRs OX40, 4-1BB, and CD40.\n",
      "==================================\u001b[1m Ai Message \u001b[0m==================================\n",
      "\n",
      "The role of CD40 is to regulate immune responses, particularly in B lymphocytes, where it provides important signals for clonal expansion, antibody production, and isotype switching. It also plays a crucial role in the development of humoral memory. In epithelial cells, CD40 ligation has been shown to have significant effects on cell growth and survival. Additionally, CD40 is involved in the regulation of self-reactive B cell fate, with signals from the B cell antigen receptor determining whether clonal proliferation or deletion occurs. The interaction between CD40 and its ligand, CD154, also plays a key role in regulating the complex interactions between B cells and T cells.\n"
     ]
    }
   ],
   "source": [
    "#inputs = {\"messages\": [(\"user\", \"What are proteins associated in PWY-5910~BIOCYC and PWY0-1305~BIOCYC\")]}\n",
    "inputs = {\"messages\": [(\"user\", \"whats the role of cd40?\")]}\n",
    "\n",
    "print_stream(graph.stream(inputs, stream_mode=\"values\"))"
   ]
  }
 ],
 "metadata": {
  "kernelspec": {
   "display_name": "bionetviz",
   "language": "python",
   "name": "python3"
  },
  "language_info": {
   "codemirror_mode": {
    "name": "ipython",
    "version": 3
   },
   "file_extension": ".py",
   "mimetype": "text/x-python",
   "name": "python",
   "nbconvert_exporter": "python",
   "pygments_lexer": "ipython3",
   "version": "3.11.10"
  }
 },
 "nbformat": 4,
 "nbformat_minor": 2
}
