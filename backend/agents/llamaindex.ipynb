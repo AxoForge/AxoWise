{
 "cells": [
  {
   "cell_type": "code",
   "execution_count": null,
   "metadata": {},
   "outputs": [],
   "source": [
    "!pip install llama-index\n",
    "!pip install llama-index-llms-ollama"
   ]
  },
  {
   "cell_type": "markdown",
   "metadata": {},
   "source": [
    "Imports"
   ]
  },
  {
   "cell_type": "code",
   "execution_count": 1,
   "metadata": {},
   "outputs": [],
   "source": [
    "import sys\n",
    "import os\n",
    "\n",
    "# Add the parent directory of the current file's location to the sys.path\n",
    "sys.path.append(os.path.abspath(\"../src\"))\n",
    "\n",
    "from llama_index.core.agent import ReActAgent\n",
    "from llama_index.llms.ollama import Ollama\n",
    "from llama_index.core.tools import FunctionTool\n",
    "from dotenv import load_dotenv\n",
    "import neo4j\n",
    "from queries import get_abstract_pmids\n",
    "from summarization.article_graph import generate_embedding\n",
    "from queries import get_functional_term_proteins, cosine_similiarity\n",
    "from llama_index.core import PromptTemplate"
   ]
  },
  {
   "cell_type": "markdown",
   "metadata": {},
   "source": [
    "Necessary functions"
   ]
  },
  {
   "cell_type": "code",
   "execution_count": 2,
   "metadata": {},
   "outputs": [],
   "source": [
    "def get_driver():\n",
    "    load_dotenv()\n",
    "\n",
    "    # set config\n",
    "    NEO4J_HOST = os.getenv(\"NEO4J_HOST\")\n",
    "    NEO4J_PORT = os.getenv(\"NEO4J_PORT\")\n",
    "    NEO4J_PASSWORD = os.getenv(\"NEO4J_PASSWORD\")\n",
    "    NEO4J_USERNAME = os.getenv(\"NEO4J_USERNAME\")\n",
    "    # connect\n",
    "    uri = f\"bolt://{NEO4J_HOST}:{NEO4J_PORT}\"\n",
    "    driver = neo4j.GraphDatabase.driver(uri, auth=(NEO4J_USERNAME, NEO4J_PASSWORD))\n",
    "    return driver"
   ]
  },
  {
   "cell_type": "markdown",
   "metadata": {},
   "source": [
    "Tools"
   ]
  },
  {
   "cell_type": "code",
   "execution_count": 3,
   "metadata": {},
   "outputs": [],
   "source": [
    "def fetch_abstracts(query:list, question:str)->str:\n",
    "    \"\"\"\"Fetches protein abstracts, not for functional terms. The first argument is the protein in question, the second is the question, the \n",
    "    second argument is the question\"\"\"\n",
    "    driver = get_driver()\n",
    "    pmids = get_abstract_pmids(driver=driver, species=\"Mus_Musculus\", query=query)\n",
    "    pmids =[i[\"PMID\"] for i in pmids]\n",
    "    embedded_query = generate_embedding(query=question)\n",
    "    abstracts = cosine_similiarity(driver=driver, pmids=pmids, embedding=embedded_query)\n",
    "    abstracts = [i[\"abstract\"] for i in abstracts]\n",
    "    if len(abstracts) == 0:\n",
    "        return \"No abstracts found, maybe use another tool? The format for this tool is query:list, question:str\"\n",
    "    return \"abstracts related to the query: \"+ \"\\n\".join(abstracts)\n",
    "\n",
    "fetch_protein_abstracts = FunctionTool.from_defaults(fn=fetch_abstracts)\n",
    "\n",
    "def fetch_proteins_from_functional_terms(funct_term:list) -> str:\n",
    "    \"Queries neo4j to retrieve proteins associated to functional terms.\"\n",
    "    driver = get_driver()\n",
    "    proteins = get_functional_term_proteins(driver, funct_term)\n",
    "    driver.close()\n",
    "    if len(proteins) == 0:\n",
    "        return [\"No proteins found, format of input is funct_term~source. Is your query maybe a gene?\"]\n",
    "    return f\"the associated proteins are: {proteins}\"\n",
    "protein_from_fn_terms = FunctionTool.from_defaults(fn=fetch_proteins_from_functional_terms)"
   ]
  },
  {
   "cell_type": "markdown",
   "metadata": {},
   "source": [
    "Prompt Template adjusting"
   ]
  },
  {
   "cell_type": "code",
   "execution_count": 4,
   "metadata": {},
   "outputs": [],
   "source": [
    "llm = Ollama(model=\"llama3.1\")\n",
    "agent = ReActAgent.from_tools([protein_from_fn_terms, fetch_protein_abstracts], llm=llm, verbose=True, max_iterations= 20)\n",
    "react_system_header_str = \"\"\"\\\n",
    "\n",
    "You are designed to help with a variety of tasks, from answering questions to providing summaries to other types of analyses.\n",
    "\n",
    "## Tools\n",
    "\n",
    "You have access to a wide variety of tools. You are responsible for using the tools in any sequence you deem appropriate to complete the task at hand. If the question is general, dont use a tool and answer directly.\n",
    "This may require breaking the task into subtasks and using different tools to complete each subtask. However do not overcomplicate the task by using too many tools.\n",
    "\n",
    "You have access to the following tools:\n",
    "{tool_desc}\n",
    "\n",
    "\n",
    "## Output Format\n",
    "\n",
    "Please answer in the same language as the question and use the following format:\n",
    "\n",
    "```\n",
    "Thought: The current language of the user is: (user's language). I need to use a tool to help me answer the question.\n",
    "Action: tool name (one of {tool_names}) if using a tool.\n",
    "Action Input: the input to the tool, in a JSON format representing the kwargs (e.g. {{\"input\": \"hello world\", \"num_beams\": 5}})\n",
    "```\n",
    "\n",
    "Please ALWAYS start with a Thought.\n",
    "\n",
    "NEVER surround your response with markdown code markers. You may use code markers within your response if you need to.\n",
    "\n",
    "Please use a valid JSON format for the Action Input. Do NOT do this {{'input': 'hello world', 'num_beams': 5}}.\n",
    "\n",
    "If this format is used, the user will respond in the following format:\n",
    "\n",
    "```\n",
    "Observation: tool response\n",
    "```\n",
    "\n",
    "You should keep repeating the above format till you have enough information to answer the question without using any more tools. At that point, you MUST respond in one of the following two formats:\n",
    "\n",
    "```\n",
    "Thought: I can answer without using any more tools. I'll use the user's language to answer\n",
    "Answer: [your answer here (In the same language as the user's question)]\n",
    "```\n",
    "\n",
    "```\n",
    "Thought: I cannot answer the question with the provided tools.\n",
    "Answer: [your answer here (In the same language as the user's question)]\n",
    "```\n",
    "\n",
    "## Current Conversation\n",
    "\n",
    "Below is the current conversation consisting of interleaving human and assistant messages.\n",
    "\n",
    "\"\"\"\n",
    "react_system_prompt = PromptTemplate(react_system_header_str)\n",
    "agent.update_prompts({\"agent_worker:system_prompt\": react_system_prompt})\n",
    "agent.reset()"
   ]
  },
  {
   "cell_type": "markdown",
   "metadata": {},
   "source": [
    "Call agent"
   ]
  },
  {
   "cell_type": "code",
   "execution_count": 5,
   "metadata": {},
   "outputs": [
    {
     "name": "stdout",
     "output_type": "stream",
     "text": [
      "> Running step f082b9db-f88c-4910-ba4f-629ebb82e787. Step input: What are proteins associated in PWY-5910~BIOCYC and PWY0-1305~BIOCYC\n",
      "\u001b[1;3;38;5;200mThought: The current language of the user is: English. I need to use a tool to help me answer the question.\n",
      "Action: fetch_proteins_from_functional_terms\n",
      "Action Input: {'funct_term': ['PWY-5910~BIOCYC', 'PWY0-1305~BIOCYC']}\n",
      "\u001b[0m\u001b[1;3;34mObservation: the associated proteins are: [{'name': 'PWY0-1305~BIOCYC', 'symbols': \"['GAD1', 'GAD2', 'GLUL']\"}, {'name': 'PWY-5910~BIOCYC', 'symbols': \"['ACAT1', 'FDPS', 'ACAT2', 'IDI1', 'MVK', 'PMVK', 'GGPS1', 'HMGCR', 'MVD', 'HMGCS2']\"}]\n",
      "\u001b[0m> Running step 60b552c5-073a-4c73-ade2-14b18c677c1b. Step input: None\n",
      "\u001b[1;3;38;5;200mThought: I can see the associated proteins, but it seems like they are already provided in a list. I'll use this information to answer.\n",
      "Answer: The proteins associated with PWY-5910~BIOCYC and PWY0-1305~BIOCYC are GAD1, GAD2, GLUL for PWY0-1305~BIOCYC and ACAT1, FDPS, ACAT2, IDI1, MVK, PMVK, GGPS1, HMGCR, MVD, HMGCS2 for PWY-5910~BIOCYC.\n",
      "\u001b[0mThe proteins associated with PWY-5910~BIOCYC and PWY0-1305~BIOCYC are GAD1, GAD2, GLUL for PWY0-1305~BIOCYC and ACAT1, FDPS, ACAT2, IDI1, MVK, PMVK, GGPS1, HMGCR, MVD, HMGCS2 for PWY-5910~BIOCYC.\n"
     ]
    }
   ],
   "source": [
    "response = agent.chat(\"What are proteins associated in PWY-5910~BIOCYC and PWY0-1305~BIOCYC\")\n",
    "#response = agent.chat(\"whats the role of cd40?\")\n",
    "print(response)"
   ]
  },
  {
   "cell_type": "code",
   "execution_count": 14,
   "metadata": {},
   "outputs": [
    {
     "data": {
      "text/plain": [
       "'the associated proteins are: [{\\'name\\': \\'PWY0-1305~BIOCYC\\', \\'symbols\\': \"[\\'GAD1\\', \\'GAD2\\', \\'GLUL\\']\"}, {\\'name\\': \\'PWY-5910~BIOCYC\\', \\'symbols\\': \"[\\'ACAT1\\', \\'FDPS\\', \\'ACAT2\\', \\'IDI1\\', \\'MVK\\', \\'PMVK\\', \\'GGPS1\\', \\'HMGCR\\', \\'MVD\\', \\'HMGCS2\\']\"}]'"
      ]
     },
     "execution_count": 14,
     "metadata": {},
     "output_type": "execute_result"
    }
   ],
   "source": [
    "response.sources[0].content"
   ]
  }
 ],
 "metadata": {
  "kernelspec": {
   "display_name": "bionetviz",
   "language": "python",
   "name": "python3"
  },
  "language_info": {
   "codemirror_mode": {
    "name": "ipython",
    "version": 3
   },
   "file_extension": ".py",
   "mimetype": "text/x-python",
   "name": "python",
   "nbconvert_exporter": "python",
   "pygments_lexer": "ipython3",
   "version": "3.11.10"
  }
 },
 "nbformat": 4,
 "nbformat_minor": 2
}
