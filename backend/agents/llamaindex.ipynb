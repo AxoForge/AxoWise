{
 "cells": [
  {
   "cell_type": "code",
   "execution_count": null,
   "metadata": {},
   "outputs": [],
   "source": [
    "!pip install llama-index\n",
    "!pip install llama-index-llms-ollama"
   ]
  },
  {
   "cell_type": "markdown",
   "metadata": {},
   "source": [
    "Imports"
   ]
  },
  {
   "cell_type": "code",
   "execution_count": 6,
   "metadata": {},
   "outputs": [],
   "source": [
    "import sys\n",
    "import os\n",
    "\n",
    "# Add the parent directory of the current file's location to the sys.path\n",
    "sys.path.append(os.path.abspath(\"../src\"))\n",
    "\n",
    "from llama_index.core.agent import ReActAgent\n",
    "from llama_index.llms.ollama import Ollama\n",
    "from llama_index.core.tools import FunctionTool\n",
    "from dotenv import load_dotenv\n",
    "import neo4j\n",
    "from queries import get_abstract_pmids\n",
    "from summarization.article_graph import generate_embedding\n",
    "from queries import get_functional_term_proteins, cosine_similiarity\n",
    "from llama_index.core import PromptTemplate"
   ]
  },
  {
   "cell_type": "markdown",
   "metadata": {},
   "source": [
    "Necessary functions"
   ]
  },
  {
   "cell_type": "code",
   "execution_count": 2,
   "metadata": {},
   "outputs": [],
   "source": [
    "def get_driver():\n",
    "    load_dotenv()\n",
    "\n",
    "    # set config\n",
    "    NEO4J_HOST = os.getenv(\"NEO4J_HOST\")\n",
    "    NEO4J_PORT = os.getenv(\"NEO4J_PORT\")\n",
    "    NEO4J_PASSWORD = os.getenv(\"NEO4J_PASSWORD\")\n",
    "    NEO4J_USERNAME = os.getenv(\"NEO4J_USERNAME\")\n",
    "    # connect\n",
    "    uri = f\"bolt://{NEO4J_HOST}:{NEO4J_PORT}\"\n",
    "    driver = neo4j.GraphDatabase.driver(uri, auth=(NEO4J_USERNAME, NEO4J_PASSWORD))\n",
    "    return driver"
   ]
  },
  {
   "cell_type": "markdown",
   "metadata": {},
   "source": [
    "Tools"
   ]
  },
  {
   "cell_type": "code",
   "execution_count": 9,
   "metadata": {},
   "outputs": [],
   "source": [
    "def fetch_abstracts(query: list, question: str)->str:\n",
    "    \"\"\"\"Fetches protein abstracts, not for functional terms. The first argument is the protein in question, the second is the question, the \n",
    "    second argument is the question\"\"\"\n",
    "    driver = get_driver()\n",
    "    pmids = get_abstract_pmids(driver=driver, species=\"Mus_Musculus\", query=query)\n",
    "    pmids =[i[\"PMID\"] for i in pmids]\n",
    "    embedded_query = generate_embedding(query=question)\n",
    "    abstracts = cosine_similiarity(driver=driver, pmids=pmids, embedding=embedded_query)\n",
    "    if len(abstracts) == 0:\n",
    "        return \"No abstracts found, maybe use another tool?\"\n",
    "    return \"abstracts related to the query: \"+ \"\\n\".join(abstracts)\n",
    "\n",
    "fetch_protein_abstracts = FunctionTool.from_defaults(fn=fetch_abstracts)\n",
    "\n",
    "def fetch_proteins_from_functional_terms(funct_term:list) -> str:\n",
    "    \"Queries neo4j to retrieve proteins associated to functional terms.\"\n",
    "    driver = get_driver()\n",
    "    proteins = get_functional_term_proteins(driver, funct_term)\n",
    "    driver.close()\n",
    "    if len(proteins) == 0:\n",
    "        return [\"No proteins found, format of input is funct_term~source\"]\n",
    "    return f\"the associated proteins are: {proteins}\"\n",
    "protein_from_fn_terms = FunctionTool.from_defaults(fn=fetch_proteins_from_functional_terms)"
   ]
  },
  {
   "cell_type": "markdown",
   "metadata": {},
   "source": [
    "Prompt Template adjusting"
   ]
  },
  {
   "cell_type": "code",
   "execution_count": 10,
   "metadata": {},
   "outputs": [],
   "source": [
    "llm = Ollama(model=\"llama3.1\")\n",
    "agent = ReActAgent.from_tools([protein_from_fn_terms, fetch_protein_abstracts], llm=llm, verbose=True, max_iterations= 20)\n",
    "react_system_header_str = \"\"\"\\\n",
    "\n",
    "You are designed to help with a variety of tasks, from answering questions to providing summaries to other types of analyses.\n",
    "\n",
    "## Tools\n",
    "\n",
    "You have access to a wide variety of tools. You are responsible for using the tools in any sequence you deem appropriate to complete the task at hand. If the question is general, dont use a tool and answer directly.\n",
    "This may require breaking the task into subtasks and using different tools to complete each subtask. However do not overcomplicate the task by using too many tools.\n",
    "\n",
    "You have access to the following tools:\n",
    "{tool_desc}\n",
    "\n",
    "\n",
    "## Output Format\n",
    "\n",
    "Please answer in the same language as the question and use the following format:\n",
    "\n",
    "```\n",
    "Thought: The current language of the user is: (user's language). I need to use a tool to help me answer the question.\n",
    "Action: tool name (one of {tool_names}) if using a tool.\n",
    "Action Input: the input to the tool, in a JSON format representing the kwargs (e.g. {{\"input\": \"hello world\", \"num_beams\": 5}})\n",
    "```\n",
    "\n",
    "Please ALWAYS start with a Thought.\n",
    "\n",
    "NEVER surround your response with markdown code markers. You may use code markers within your response if you need to.\n",
    "\n",
    "Please use a valid JSON format for the Action Input. Do NOT do this {{'input': 'hello world', 'num_beams': 5}}.\n",
    "\n",
    "If this format is used, the user will respond in the following format:\n",
    "\n",
    "```\n",
    "Observation: tool response\n",
    "```\n",
    "\n",
    "You should keep repeating the above format till you have enough information to answer the question without using any more tools. At that point, you MUST respond in one of the following two formats:\n",
    "\n",
    "```\n",
    "Thought: I can answer without using any more tools. I'll use the user's language to answer\n",
    "Answer: [your answer here (In the same language as the user's question)]\n",
    "```\n",
    "\n",
    "```\n",
    "Thought: I cannot answer the question with the provided tools.\n",
    "Answer: [your answer here (In the same language as the user's question)]\n",
    "```\n",
    "\n",
    "## Current Conversation\n",
    "\n",
    "Below is the current conversation consisting of interleaving human and assistant messages.\n",
    "\n",
    "\"\"\"\n",
    "react_system_prompt = PromptTemplate(react_system_header_str)\n",
    "agent.update_prompts({\"agent_worker:system_prompt\": react_system_prompt})\n",
    "agent.reset()"
   ]
  },
  {
   "cell_type": "markdown",
   "metadata": {},
   "source": [
    "Call agent"
   ]
  },
  {
   "cell_type": "code",
   "execution_count": 11,
   "metadata": {},
   "outputs": [
    {
     "name": "stdout",
     "output_type": "stream",
     "text": [
      "> Running step 0eec2f35-ff2c-43e5-a19e-e09568522a0f. Step input: whats the role of cd40?\n",
      "\u001b[1;3;38;5;200mThought: The current language of the user is: English. I need to use a tool to help me answer the question.\n",
      "Action: fetch_proteins_from_functional_terms\n",
      "Action Input: {}\n",
      "\u001b[0m\u001b[1;3;34mObservation: Error: fetch_proteins_from_functional_terms() missing 1 required positional argument: 'funct_term'\n",
      "\u001b[0m> Running step 2605fbc9-9d3e-47be-8e52-c246ba25c4cd. Step input: None\n",
      "\u001b[1;3;38;5;200mThought: I need another input from the user to pass to the tool. The user should provide a list of functional terms that might be associated with cd40.\n",
      "Action: fetch_proteins_from_functional_terms\n",
      "Action Input: {'funct_term': ['immune response', 'co-stimulation']}\n",
      "\u001b[0m\u001b[1;3;34mObservation: ['No proteins found, format of input is funct_term~source']\n",
      "\u001b[0m> Running step 0802ba80-1c03-424d-a0db-6c668de493e7. Step input: None\n",
      "\u001b[1;3;38;5;200mThought: It seems like the tool expects a specific format for the input functional terms. The user should provide the list in the format \"funct_term~source\".\n",
      "Action: fetch_proteins_from_functional_terms\n",
      "Action Input: {'funct_term': ['immune response~NCBI', 'co-stimulation~UniProt']}\n",
      "\u001b[0m\u001b[1;3;34mObservation: ['No proteins found, format of input is funct_term~source']\n",
      "\u001b[0m> Running step 327c6981-d6f5-4354-9f2d-469fceef7a54. Step input: None\n",
      "\u001b[1;3;38;5;200mThought: I should double-check the expected format. The user provided the list in a different format last time and it didn't work. Let me try again.\n",
      "Action: fetch_proteins_from_functional_terms\n",
      "Action Input: {'funct_term': ['cd40~NCBI', 'co-stimulation~UniProt']}\n",
      "\u001b[0m\u001b[1;3;34mObservation: ['No proteins found, format of input is funct_term~source']\n",
      "\u001b[0m> Running step d7d1466b-444d-4d70-904c-1dfe110a40a2. Step input: None\n",
      "\u001b[1;3;38;5;200mThought: I think I know what's going on now. The user initially asked about cd40 and its role, not specific functional terms associated with it. Let me try a different tool to find information about the cd40 protein itself.\n",
      "Action: fetch_abstracts\n",
      "Action Input: {'query': ['cd40'], 'question': 'What is the role of cd40?'}\n",
      "\u001b[0m\u001b[1;3;34mObservation: abstracts related to the query: The widespread expression of CD40 in normal epithelial cells and carcinoma cells suggests that this receptor has important, additional influences beyond that of regulating immune responses. Here, Lawrence Young and colleagues discuss the effect of CD40 ligation on epithelial cells and consider the role of this pathway in the pathogenesis and treatment of carcinomas.\n",
      "The CD40 receptor is expressed constitutively on B lymphocytes, for which it provides important signals regulating clonal expansion, antibody production and isotype switching, as well as the development of humoral memory. The major source of CD154, the ligand for CD40, is activated T lymphocytes. Interactions between CD40 and CD154 provide a number of signals that play important roles in regulating the complex and multifactorial interactions between these two major cell types of the adaptive immune response. Understanding both the biological effects of this receptor-ligand interaction, as well as how CD40 signaling pathways are controlled, adds to our detailed picture of the complex interplay between B and T cells.\n",
      "Signals from CD4+ T cells induce two opposite fates in B cells: clonal proliferation of B cells that bind specifically to foreign antigens and clonal deletion of equivalent B cells that bind self-antigens. This B cell fate decision is determined by the concerted action of two surface proteins on activated T cells, CD40-and Fas-ligands (CD40L and FasL), whose effects are switched by signals from the B cell antigen receptor (BCR). Foreign antigens that stimulate the BCR acutely cause CD40L and FasL to promote clonal proliferation. CD40L and FasL trigger deletion, however, when the BCRs become desensitized by chronic stimulation with self-antigens or when BCRs have not bound an antigen. The need for both Fas and CD40L to correctly regulate self-reactive B cell fate may explain the severe autoantibody disorders in Fas- or CD40L-deficient children.\n",
      "The liver is known to favor the induction of immunological tolerance rather than immunity. Although Kupffer cells (KC) have been indicated to play a role in liver tolerance to allografts and soluble antigens, the mechanisms involved remain unclear. We hypothesized that KCs could promote immune tolerance by acting as incompetent antigen-presenting cells (APC), as well as actively suppressing T cell activation induced by other potent APCs. The expression of antigen presentation-related molecules by KCs was phenotyped by flow cytometry. The abilities of KCs to act as APCs and to suppress T cell activation induced by splenic dendritic cells (DC) were examined by in vitro proliferation assays using CD4(+) OVA-TCR (ovalbumin T cell receptor) transgenic T cells. We found that, compared with DCs, KCs expressed significantly lower levels of major histocompatibility complex (MHC) II, B7-1, B7-2, and CD40. This result is consistent with our observation that KCs were not as potent as DCs in eliciting OVA-specific T cell proliferation. However, KCs isolated from polyinosinic:polycytidylic acid-treated mice expressed significantly higher levels of MHC II and costimulatory molecules than did naïve KCs and could stimulate stronger T cell responses. More importantly, we found that KCs could inhibit DC-induced OVA-specific T cell activation. Further investigation of the underlying mechanism revealed that prostaglandins produced by KCs played an important role. The results ruled out the possible involvement of interleukin-10, nitric oxide, 2,3-dioxygenase, and transforming growth factor beta in KC-mediated T cell suppression.Our data indicate that KCs are a tolerogenic APC population within the liver. These findings suggest that KCs may play a critical role in regulating immune reactions within the liver and contributing to liver-mediated systemic immune tolerance. (HEPATOLOGY 2008.).\n",
      "T lymphocytes recirculate continually through the T cell areas of peripheral lymph nodes. During each passage, the T cells survey the surface of large dendritic cells (DCs), also known as interdigitating cells. However, these DCs have been difficult to release from the lymph node. By emphasizing the use of calcium-free media, as shown by Vremec et al. (Vremec, D., M. Zorbas, R. Scollay, D.J. Saunders, C.F. Ardavin, L. Wu, and K. Shortman. 1992. J. Exp. Med. 176:47-58.), we have been able to release and enrich DCs from the T cell areas. The DCs express the CD11c leukocyte integrin, the DEC-205 multilectin receptor for antigen presentation, the intracellular granule antigens which are recognized by monoclonal antibodies M342, 2A1, and MIDC-8, very high levels of MHC I and MHC II, and abundant accessory molecules such as CD40, CD54, and CD86. When examined with the Y-Ae monoclonal which recognizes complexes formed between I-Ab and a peptide derived from I-Ealpha, the T cell area DCs expressed the highest levels. The enriched DCs also stimulated a T-T hybridoma specific for this MHC II-peptide complex, and the hybridoma underwent apoptosis. Therefore DCs within the T cell areas can be isolated. Because they present very high levels of self peptides, these DCs should be considered in the regulation of self reactivity in the periphery.\n",
      "\u001b[0m> Running step 15ba8abf-5a36-4b4d-b956-29f3933f07e0. Step input: None\n",
      "\u001b[1;3;38;5;200mThought: I have enough information to answer the question without using any more tools.\n",
      "Answer: The role of CD40 includes regulating immune responses, particularly in B lymphocytes and T cells. It provides signals for clonal expansion, antibody production, and isotype switching in B cells, and helps in the development of humoral memory. In epithelial cells, CD40 ligation can influence their behavior, possibly contributing to carcinomas. The interaction between CD40 and its ligand (CD154) plays a crucial role in regulating the interactions between B and T cells. Additionally, research suggests that CD40-expressing cells, such as Kupffer cells in the liver, may promote immune tolerance rather than immunity by acting as incompetent antigen-presenting cells or actively suppressing T cell activation.\n",
      "\u001b[0mThe role of CD40 includes regulating immune responses, particularly in B lymphocytes and T cells. It provides signals for clonal expansion, antibody production, and isotype switching in B cells, and helps in the development of humoral memory. In epithelial cells, CD40 ligation can influence their behavior, possibly contributing to carcinomas. The interaction between CD40 and its ligand (CD154) plays a crucial role in regulating the interactions between B and T cells. Additionally, research suggests that CD40-expressing cells, such as Kupffer cells in the liver, may promote immune tolerance rather than immunity by acting as incompetent antigen-presenting cells or actively suppressing T cell activation.\n"
     ]
    }
   ],
   "source": [
    "# response = agent.chat(\"What are proteins associated in PWY-5910~BIOCYC and PWY0-1305~BIOCYC\")\n",
    "response = agent.chat(\"whats the role of cd40?\")\n",
    "print(response)"
   ]
  }
 ],
 "metadata": {
  "kernelspec": {
   "display_name": "bionetviz",
   "language": "python",
   "name": "python3"
  },
  "language_info": {
   "codemirror_mode": {
    "name": "ipython",
    "version": 3
   },
   "file_extension": ".py",
   "mimetype": "text/x-python",
   "name": "python",
   "nbconvert_exporter": "python",
   "pygments_lexer": "ipython3",
   "version": "3.11.10"
  }
 },
 "nbformat": 4,
 "nbformat_minor": 2
}
