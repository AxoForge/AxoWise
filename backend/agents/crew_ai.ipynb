{
 "cells": [
  {
   "cell_type": "code",
   "execution_count": null,
   "metadata": {},
   "outputs": [],
   "source": [
    "!pip install crewai\n",
    "!pip install 'crewai[tools]'"
   ]
  },
  {
   "cell_type": "markdown",
   "metadata": {},
   "source": [
    "Imports"
   ]
  },
  {
   "cell_type": "code",
   "execution_count": 10,
   "metadata": {},
   "outputs": [],
   "source": [
    "import sys\n",
    "import os\n",
    "\n",
    "# Add the parent directory of the current file's location to the sys.path\n",
    "sys.path.append(os.path.abspath(\"../src\"))\n",
    "\n",
    "from dotenv import load_dotenv\n",
    "import neo4j\n",
    "from ast import literal_eval\n",
    "from queries import get_abstracts, get_abstract_pmids\n",
    "from summarization.article_graph import generate_embedding\n",
    "from queries import get_functional_term_proteins, cosine_similiarity\n",
    "from crewai_tools import tool\n",
    "from crewai import Crew, Process, Agent, Task\n",
    "from crewai import Agent, LLM"
   ]
  },
  {
   "cell_type": "markdown",
   "metadata": {},
   "source": [
    "Necessary functions"
   ]
  },
  {
   "cell_type": "code",
   "execution_count": 11,
   "metadata": {},
   "outputs": [],
   "source": [
    "def get_driver():\n",
    "    load_dotenv()\n",
    "\n",
    "    # set config\n",
    "    NEO4J_HOST = os.getenv(\"NEO4J_HOST\")\n",
    "    NEO4J_PORT = os.getenv(\"NEO4J_PORT\")\n",
    "    NEO4J_PASSWORD = os.getenv(\"NEO4J_PASSWORD\")\n",
    "    NEO4J_USERNAME = os.getenv(\"NEO4J_USERNAME\")\n",
    "    # connect\n",
    "    uri = f\"bolt://{NEO4J_HOST}:{NEO4J_PORT}\"\n",
    "    driver = neo4j.GraphDatabase.driver(uri, auth=(NEO4J_USERNAME, NEO4J_PASSWORD))\n",
    "    return driver\n",
    "\n",
    "def abstracts_for_agent(query):\n",
    "    query = literal_eval(query)\n",
    "    driver = get_driver()\n",
    "    test = get_abstracts(driver=driver, species=\"Mus_Musculus\", query=query)\n",
    "    abstracts =[{i[\"PMID\"]: i[\"abstract\"]} for i in test]\n",
    "    driver.close()\n",
    "    return abstracts\n",
    "\n",
    "def pmids_for_agent(query):\n",
    "    driver = get_driver()\n",
    "    test = get_abstract_pmids(driver=driver, species=\"Mus_Musculus\", query=query)\n",
    "    pmids =[i[\"PMID\"] for i in test]\n",
    "    driver.close()\n",
    "    return pmids\n",
    "\n",
    "@tool(\"abstracts fetcher\")\n",
    "def fetch_abstracts(query: list, question: str):\n",
    "    \"\"\"\"Fetches abstracts relevant for question about proteins, not functional terms. First argument is the query, second is the question.\"\"\"\n",
    "    driver = get_driver()\n",
    "    pmids = get_abstract_pmids(driver=driver, species=\"Mus_Musculus\", query=query)\n",
    "    pmids =[i[\"PMID\"] for i in pmids]\n",
    "    embedded_query = generate_embedding(query=question)\n",
    "    abstracts = cosine_similiarity(driver=driver, pmids=pmids, embedding=embedded_query)\n",
    "    if len(abstracts) == 0:\n",
    "        return \"No abstracts found, maybe use another tool?\"\n",
    "    return \" \\n \".join(abstracts)\n",
    "\n",
    "@tool(\"protein_from_functional_term_fetcher\")\n",
    "def fetch_proteins_from_functional_terms(funct_term: list) -> list:\n",
    "    \"Queries neo4j to retrieve proteins associated to functional terms.\"\n",
    "    driver = get_driver()\n",
    "    proteins = get_functional_term_proteins(driver, funct_term)\n",
    "    driver.close()\n",
    "    return proteins"
   ]
  },
  {
   "cell_type": "markdown",
   "metadata": {},
   "source": [
    "Agents"
   ]
  },
  {
   "cell_type": "code",
   "execution_count": 12,
   "metadata": {},
   "outputs": [],
   "source": [
    "llm = LLM(model=\"ollama/llama3.1\", base_url=\"http://localhost:11434\", temperature=0)\n",
    "class CustomAgents:\n",
    "    def __init__(self):\n",
    "        self.Ollama = llm\n",
    "\n",
    "    def helper_agent(self):\n",
    "        return Agent(\n",
    "            role=\"Helper\",\n",
    "            goal=\"Help the team\",\n",
    "            backstory=\"You're an expert biologist, you're here to help the team\",\n",
    "            llm=self.Ollama,\n",
    "            max_iter=1\n",
    "        )\n",
    "    \n",
    "    def protein_from_functional_term_fetcher_agent(self):\n",
    "        return Agent(\n",
    "            role=\"Functional term to protein fetcher\",\n",
    "            goal=\"You query the database to retrieve proteins associated to functional terms, functional terms have the format funct_term~source\",\n",
    "            backstory=\"You're an expert biologist, you focus on retrieving proteins associated to functional terms\",\n",
    "            allow_delegation=True,\n",
    "            llm=self.Ollama,\n",
    "            tools=[fetch_proteins_from_functional_terms],\n",
    "            max_iter=1\n",
    "        )\n",
    "    def abstract_fetcher_agent(self):\n",
    "        return Agent(\n",
    "            role=\"Information fetcher\",\n",
    "            goal=\"Fetch abstracts needed to answer questions regarding protein interactions or functions.\",\n",
    "            backstory=\"You're an expert biologist, you focus on retrieving scientific abstracts. You know that the ferch abstracts tool can be used to retrieve abstracts for a given question and has the format fetch_abstracts(query: list, question:str)\",\n",
    "            allow_delegation=True,\n",
    "            llm=self.Ollama,\n",
    "            tools=[fetch_abstracts],\n",
    "            max_iter=1\n",
    "        )\n",
    "\n",
    "    def summarization_agent(self):\n",
    "        return Agent(\n",
    "            role=\"Information summarizer\",\n",
    "            goal=\"You summarize information\",\n",
    "            backstory=\"You're an expert biologist, your main field is protein/gene interactions\",\n",
    "            allow_delegation=True,\n",
    "            llm=self.Ollama,\n",
    "            max_iter=1\n",
    "        )\n",
    "    def manager_agent(self):\n",
    "        return Agent(\n",
    "            role=\"Manager\",\n",
    "            goal=\"You manage the team\",\n",
    "            backstory=\"You're an expert biologist, you manage a team of biologists. You know that functional terms have the format funct_term~source. The abstract_fetcher_agent retireves abstracts and the summarization agent summarizes them.\",\n",
    "            llm=self.Ollama,\n",
    "            max_iter=1\n",
    "        )"
   ]
  },
  {
   "cell_type": "markdown",
   "metadata": {},
   "source": [
    "Tasks"
   ]
  },
  {
   "cell_type": "code",
   "execution_count": 13,
   "metadata": {},
   "outputs": [],
   "source": [
    "# This is an example of how to define custom tasks.\n",
    "# You can define as many tasks as you want.\n",
    "# You can also define custom agents in agents.py\n",
    "class CustomTasks:\n",
    "    def bionet_helper_task(self, context):\n",
    "        return Task(\n",
    "            description = f\"Help the user. The user input is: {context}\",\n",
    "            expected_output=\"An answer to the question\",\n",
    "            verbose=True\n",
    "        )"
   ]
  },
  {
   "cell_type": "markdown",
   "metadata": {},
   "source": [
    "Define agents, tasks and start the work"
   ]
  },
  {
   "cell_type": "code",
   "execution_count": 14,
   "metadata": {},
   "outputs": [
    {
     "name": "stderr",
     "output_type": "stream",
     "text": [
      "2024-11-21 14:59:07,538 - 129366616860480 - __init__.py-__init__:538 - WARNING: Overriding of current TracerProvider is not allowed\n"
     ]
    },
    {
     "name": "stdout",
     "output_type": "stream",
     "text": [
      "\u001b[1m\u001b[95m# Agent:\u001b[00m \u001b[1m\u001b[92mManager\u001b[00m\n",
      "\u001b[95m## Task:\u001b[00m \u001b[92mHelp the user. The user input is: What are proteins associated in PWY-5910~BIOCYC and PWY0-1305~BIOCYC\u001b[00m\n",
      "\u001b[1m\u001b[95m# Agent:\u001b[00m \u001b[1m\u001b[92mFunctional term to protein fetcher\u001b[00m\n",
      "\u001b[95m## Task:\u001b[00m \u001b[92mfetch proteins associated with PWY-5910~BIOCYC and PWY0-1305~BIOCYC\u001b[00m\n",
      "\n",
      "\n",
      "\u001b[1m\u001b[95m# Agent:\u001b[00m \u001b[1m\u001b[92mFunctional term to protein fetcher\u001b[00m\n",
      "\u001b[95m## Thought:\u001b[00m \u001b[92mThought: I need to query the database to retrieve proteins associated with PWY-5910~BIOCYC and PWY0-1305~BIOCYC.\u001b[00m\n",
      "\u001b[95m## Using tool:\u001b[00m \u001b[92mprotein_from_functional_term_fetcher\u001b[00m\n",
      "\u001b[95m## Tool Input:\u001b[00m \u001b[92m\n",
      "\"{\\\"funct_term\\\": [\\\"PWY-5910~BIOCYC\\\", \\\"PWY0-1305~BIOCYC\\\"]}\"\u001b[00m\n",
      "\u001b[95m## Tool Output:\u001b[00m \u001b[92m\n",
      "[{'PWY0-1305~BIOCYC': ['GAD1', 'GAD2', 'GLUL']}, {'PWY-5910~BIOCYC': ['ACAT1', 'FDPS', 'ACAT2', 'IDI1', 'MVK', 'PMVK', 'GGPS1', 'HMGCR', 'MVD', 'HMGCS2']}]\u001b[00m\n",
      "\n",
      "\n",
      "\u001b[1m\u001b[95m# Agent:\u001b[00m \u001b[1m\u001b[92mFunctional term to protein fetcher\u001b[00m\n",
      "\u001b[95m## Final Answer:\u001b[00m \u001b[92m\n",
      "{'PWY0-1305~BIOCYC': ['GAD1', 'GAD2', 'GLUL'], 'PWY-5910~BIOCYC': ['ACAT1', 'FDPS', 'ACAT2', 'IDI1', 'MVK', 'PMVK', 'GGPS1', 'HMGCR', 'MVD', 'HMGCS2']}\u001b[00m\n",
      "\n",
      "\n",
      "\n",
      "\n",
      "\u001b[1m\u001b[95m# Agent:\u001b[00m \u001b[1m\u001b[92mManager\u001b[00m\n",
      "\u001b[95m## Thought:\u001b[00m \u001b[92mThought: I need to find proteins associated with PWY-5910~BIOCYC and PWY0-1305~BIOCYC.\u001b[00m\n",
      "\u001b[95m## Using tool:\u001b[00m \u001b[92mDelegate work to coworker\u001b[00m\n",
      "\u001b[95m## Tool Input:\u001b[00m \u001b[92m\n",
      "\"{\\\"coworker\\\": \\\"Functional term to protein fetcher\\\", \\\"task\\\": \\\"fetch proteins associated with PWY-5910~BIOCYC and PWY0-1305~BIOCYC\\\", \\\"context\\\": \\\"PWY-5910~BIOCYC is a pathway in the BioCyc database\\\"}\"\u001b[00m\n",
      "\u001b[95m## Tool Output:\u001b[00m \u001b[92m\n",
      "{'PWY0-1305~BIOCYC': ['GAD1', 'GAD2', 'GLUL'], 'PWY-5910~BIOCYC': ['ACAT1', 'FDPS', 'ACAT2', 'IDI1', 'MVK', 'PMVK', 'GGPS1', 'HMGCR', 'MVD', 'HMGCS2']}\u001b[00m\n",
      "\n",
      "\n",
      "\u001b[1m\u001b[95m# Agent:\u001b[00m \u001b[1m\u001b[92mManager\u001b[00m\n",
      "\u001b[95m## Final Answer:\u001b[00m \u001b[92m\n",
      "{'PWY0-1305~BIOCYC': ['GAD1', 'GAD2', 'GLUL'], 'PWY-5910~BIOCYC': ['ACAT1', 'FDPS', 'ACAT2', 'IDI1', 'MVK', 'PMVK', 'GGPS1', 'HMGCR', 'MVD', 'HMGCS2']}\u001b[00m\n",
      "\n",
      "\n",
      "{'PWY0-1305~BIOCYC': ['GAD1', 'GAD2', 'GLUL'], 'PWY-5910~BIOCYC': ['ACAT1', 'FDPS', 'ACAT2', 'IDI1', 'MVK', 'PMVK', 'GGPS1', 'HMGCR', 'MVD', 'HMGCS2']}\n"
     ]
    }
   ],
   "source": [
    "# Define agents\n",
    "agents = CustomAgents()\n",
    "\n",
    "manager = agents.manager_agent()\n",
    "abstract_fetcher_agent = agents.abstract_fetcher_agent()\n",
    "summarization_agent = agents.summarization_agent()\n",
    "helper_agent = agents.helper_agent()\n",
    "protein_fetcher_agent = agents.protein_from_functional_term_fetcher_agent()\n",
    "\n",
    "# Define tasks\n",
    "tasks = CustomTasks()\n",
    "\n",
    "#task = tasks.bionet_helper_task(\"whats the role of cd40?\")\n",
    "task = tasks.bionet_helper_task(\"What are proteins associated in PWY-5910~BIOCYC and PWY0-1305~BIOCYC\")\n",
    "\n",
    "# Define the crew\n",
    "crew = Crew(agents=[protein_fetcher_agent, summarization_agent, abstract_fetcher_agent], tasks=[task], process=Process.hierarchical, manager_agent=manager, verbose=True)\n",
    "\n",
    "# Start the crew's work\n",
    "result = crew.kickoff()\n",
    "print(result)\n"
   ]
  }
 ],
 "metadata": {
  "kernelspec": {
   "display_name": "bionetviz",
   "language": "python",
   "name": "python3"
  },
  "language_info": {
   "codemirror_mode": {
    "name": "ipython",
    "version": 3
   },
   "file_extension": ".py",
   "mimetype": "text/x-python",
   "name": "python",
   "nbconvert_exporter": "python",
   "pygments_lexer": "ipython3",
   "version": "3.11.10"
  }
 },
 "nbformat": 4,
 "nbformat_minor": 2
}
